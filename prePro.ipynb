{
 "cells": [
  {
   "cell_type": "code",
   "execution_count": null,
   "id": "d5857a76",
   "metadata": {},
   "outputs": [],
   "source": [
    "# Aquí se limpiará la data, ya que habrá otro archivo donde SOLO SE PRESENTARÁ LO QUE EL PROFE PIDA"
   ]
  },
  {
   "cell_type": "code",
   "execution_count": null,
   "id": "c298aa4d",
   "metadata": {},
   "outputs": [],
   "source": [
    "# ver si puedo hacer un geodatapackage con mi datas anteriores así como se ve en la primera parte, PERO DEBE SALIR DE UN LINK"
   ]
  },
  {
   "cell_type": "code",
   "execution_count": 9,
   "id": "e217d4f4",
   "metadata": {},
   "outputs": [
    {
     "ename": "ValueError",
     "evalue": "could not convert string to float: '#geo +lon'",
     "output_type": "error",
     "traceback": [
      "\u001b[1;31m---------------------------------------------------------------------------\u001b[0m",
      "\u001b[1;31mValueError\u001b[0m                                Traceback (most recent call last)",
      "Cell \u001b[1;32mIn[9], line 36\u001b[0m\n\u001b[0;32m     26\u001b[0m gdf \u001b[38;5;241m=\u001b[39m gpd\u001b[38;5;241m.\u001b[39mGeoDataFrame({\n\u001b[0;32m     27\u001b[0m     \u001b[38;5;124m'\u001b[39m\u001b[38;5;124mairports\u001b[39m\u001b[38;5;124m'\u001b[39m: \u001b[38;5;28;01mNone\u001b[39;00m,\n\u001b[0;32m     28\u001b[0m     \u001b[38;5;124m'\u001b[39m\u001b[38;5;124mcountry\u001b[39m\u001b[38;5;124m'\u001b[39m: ukraine\u001b[38;5;241m.\u001b[39mgeometry,\n\u001b[1;32m   (...)\u001b[0m\n\u001b[0;32m     32\u001b[0m     \u001b[38;5;124m'\u001b[39m\u001b[38;5;124mmunicipalities\u001b[39m\u001b[38;5;124m'\u001b[39m: municipalities\u001b[38;5;241m.\u001b[39mgeometry\n\u001b[0;32m     33\u001b[0m })\n\u001b[0;32m     35\u001b[0m \u001b[38;5;66;03m# Agregar las geometrías de los aeropuertos al GeoDataFrame\u001b[39;00m\n\u001b[1;32m---> 36\u001b[0m geometry_airports \u001b[38;5;241m=\u001b[39m gpd\u001b[38;5;241m.\u001b[39mpoints_from_xy(airports\u001b[38;5;241m.\u001b[39mlongitude_deg, airports\u001b[38;5;241m.\u001b[39mlatitude_deg)\n\u001b[0;32m     37\u001b[0m gdf[\u001b[38;5;124m'\u001b[39m\u001b[38;5;124mairports\u001b[39m\u001b[38;5;124m'\u001b[39m] \u001b[38;5;241m=\u001b[39m gpd\u001b[38;5;241m.\u001b[39mGeoSeries(geometry_airports, crs\u001b[38;5;241m=\u001b[39m\u001b[38;5;124m\"\u001b[39m\u001b[38;5;124mEPSG:4326\u001b[39m\u001b[38;5;124m\"\u001b[39m)\n\u001b[0;32m     39\u001b[0m \u001b[38;5;66;03m# Nombre del nuevo archivo GeoPackage\u001b[39;00m\n",
      "File \u001b[1;32m~\\anaconda3\\envs\\Special_20206484_ZG\\Lib\\site-packages\\geopandas\\array.py:266\u001b[0m, in \u001b[0;36mpoints_from_xy\u001b[1;34m(x, y, z, crs)\u001b[0m\n\u001b[0;32m    223\u001b[0m \u001b[38;5;28;01mdef\u001b[39;00m \u001b[38;5;21mpoints_from_xy\u001b[39m(x, y, z\u001b[38;5;241m=\u001b[39m\u001b[38;5;28;01mNone\u001b[39;00m, crs\u001b[38;5;241m=\u001b[39m\u001b[38;5;28;01mNone\u001b[39;00m):\n\u001b[0;32m    224\u001b[0m \u001b[38;5;250m    \u001b[39m\u001b[38;5;124;03m\"\"\"\u001b[39;00m\n\u001b[0;32m    225\u001b[0m \u001b[38;5;124;03m    Generate GeometryArray of shapely Point geometries from x, y(, z) coordinates.\u001b[39;00m\n\u001b[0;32m    226\u001b[0m \n\u001b[1;32m   (...)\u001b[0m\n\u001b[0;32m    264\u001b[0m \u001b[38;5;124;03m    output : GeometryArray\u001b[39;00m\n\u001b[0;32m    265\u001b[0m \u001b[38;5;124;03m    \"\"\"\u001b[39;00m\n\u001b[1;32m--> 266\u001b[0m     \u001b[38;5;28;01mreturn\u001b[39;00m GeometryArray(vectorized\u001b[38;5;241m.\u001b[39mpoints_from_xy(x, y, z), crs\u001b[38;5;241m=\u001b[39mcrs)\n",
      "File \u001b[1;32m~\\anaconda3\\envs\\Special_20206484_ZG\\Lib\\site-packages\\geopandas\\_vectorized.py:256\u001b[0m, in \u001b[0;36mpoints_from_xy\u001b[1;34m(x, y, z)\u001b[0m\n\u001b[0;32m    255\u001b[0m \u001b[38;5;28;01mdef\u001b[39;00m \u001b[38;5;21mpoints_from_xy\u001b[39m(x, y, z\u001b[38;5;241m=\u001b[39m\u001b[38;5;28;01mNone\u001b[39;00m):\n\u001b[1;32m--> 256\u001b[0m     x \u001b[38;5;241m=\u001b[39m np\u001b[38;5;241m.\u001b[39masarray(x, dtype\u001b[38;5;241m=\u001b[39m\u001b[38;5;124m\"\u001b[39m\u001b[38;5;124mfloat64\u001b[39m\u001b[38;5;124m\"\u001b[39m)\n\u001b[0;32m    257\u001b[0m     y \u001b[38;5;241m=\u001b[39m np\u001b[38;5;241m.\u001b[39masarray(y, dtype\u001b[38;5;241m=\u001b[39m\u001b[38;5;124m\"\u001b[39m\u001b[38;5;124mfloat64\u001b[39m\u001b[38;5;124m\"\u001b[39m)\n\u001b[0;32m    258\u001b[0m     \u001b[38;5;28;01mif\u001b[39;00m z \u001b[38;5;129;01mis\u001b[39;00m \u001b[38;5;129;01mnot\u001b[39;00m \u001b[38;5;28;01mNone\u001b[39;00m:\n",
      "File \u001b[1;32m~\\anaconda3\\envs\\Special_20206484_ZG\\Lib\\site-packages\\pandas\\core\\series.py:917\u001b[0m, in \u001b[0;36mSeries.__array__\u001b[1;34m(self, dtype)\u001b[0m\n\u001b[0;32m    870\u001b[0m \u001b[38;5;250m\u001b[39m\u001b[38;5;124;03m\"\"\"\u001b[39;00m\n\u001b[0;32m    871\u001b[0m \u001b[38;5;124;03mReturn the values as a NumPy array.\u001b[39;00m\n\u001b[0;32m    872\u001b[0m \n\u001b[1;32m   (...)\u001b[0m\n\u001b[0;32m    914\u001b[0m \u001b[38;5;124;03m      dtype='datetime64[ns]')\u001b[39;00m\n\u001b[0;32m    915\u001b[0m \u001b[38;5;124;03m\"\"\"\u001b[39;00m\n\u001b[0;32m    916\u001b[0m values \u001b[38;5;241m=\u001b[39m \u001b[38;5;28mself\u001b[39m\u001b[38;5;241m.\u001b[39m_values\n\u001b[1;32m--> 917\u001b[0m arr \u001b[38;5;241m=\u001b[39m np\u001b[38;5;241m.\u001b[39masarray(values, dtype\u001b[38;5;241m=\u001b[39mdtype)\n\u001b[0;32m    918\u001b[0m \u001b[38;5;28;01mif\u001b[39;00m using_copy_on_write() \u001b[38;5;129;01mand\u001b[39;00m astype_is_view(values\u001b[38;5;241m.\u001b[39mdtype, arr\u001b[38;5;241m.\u001b[39mdtype):\n\u001b[0;32m    919\u001b[0m     arr \u001b[38;5;241m=\u001b[39m arr\u001b[38;5;241m.\u001b[39mview()\n",
      "\u001b[1;31mValueError\u001b[0m: could not convert string to float: '#geo +lon'"
     ]
    }
   ],
   "source": [
    "import geopandas as gpd\n",
    "import pandas as pd\n",
    "import os\n",
    "\n",
    "# Tu código para leer los datos\n",
    "ukraineMaps = 'https://github.com/ZurinaGarcia/simpleplot/raw/main/maps/ukraine_5641/ukraineMaps_5641.gpkg'\n",
    "cities = gpd.read_file(ukraineMaps, layer='cities')\n",
    "rivers = gpd.read_file(ukraineMaps, layer='rivers')\n",
    "states = gpd.read_file(os.path.join(\"maps\", \"ukr_admbnda_sspe_20230201_shp\", \"ukr_admbnda_adm1_sspe_20230201.shp\"))\n",
    "municipalities = gpd.read_file(os.path.join(\"maps\", \"ukr_admbnda_sspe_20230201_shp\", \"ukr_admbnda_adm2_sspe_20230201.shp\"))\n",
    "ukraine = gpd.read_file(ukraineMaps, layer='country')\n",
    "\n",
    "# Leer los datos adicionales\n",
    "airports = pd.read_csv(os.path.join(\"data\", \"ua-airports.csv\"))\n",
    "\n",
    "import pandas as pd\n",
    "\n",
    "# Leer el archivo CSV excluyendo la primera fila que contiene los encabezados\n",
    "airports = pd.read_csv(os.path.join(\"data\", \"ua-airports.csv\"), skiprows=[3])\n",
    "\n",
    "# Guardar los datos modificados en el archivo CSV\n",
    "airports.to_csv(os.path.join(\"data\", \"ua-airports-updated.csv\"), index=False)\n",
    "\n",
    "\n",
    "# Crear un nuevo GeoDataFrame con las capas y datos adicionales\n",
    "gdf = gpd.GeoDataFrame({\n",
    "    'airports': None,\n",
    "    'country': ukraine.geometry,\n",
    "    'cities': cities.geometry,\n",
    "    'rivers': rivers.geometry,\n",
    "    'states': states.geometry,\n",
    "    'municipalities': municipalities.geometry\n",
    "})\n",
    "\n",
    "# Agregar las geometrías de los aeropuertos al GeoDataFrame\n",
    "geometry_airports = gpd.points_from_xy(airports.longitude_deg, airports.latitude_deg)\n",
    "gdf['airports'] = gpd.GeoSeries(geometry_airports, crs=\"EPSG:4326\")\n",
    "\n",
    "# Nombre del nuevo archivo GeoPackage\n",
    "output_gpkg = 'ukraineMapsFinal.gpkg'  # Cambio de nombre del archivo de salida\n",
    "\n",
    "# Guardar el GeoDataFrame en un nuevo archivo GeoPackage\n",
    "gdf.to_file(output_gpkg, driver='GPKG')\n",
    "\n"
   ]
  },
  {
   "cell_type": "code",
   "execution_count": null,
   "id": "aa1ca19e",
   "metadata": {},
   "outputs": [],
   "source": []
  }
 ],
 "metadata": {
  "kernelspec": {
   "display_name": "Python 3 (ipykernel)",
   "language": "python",
   "name": "python3"
  },
  "language_info": {
   "codemirror_mode": {
    "name": "ipython",
    "version": 3
   },
   "file_extension": ".py",
   "mimetype": "text/x-python",
   "name": "python",
   "nbconvert_exporter": "python",
   "pygments_lexer": "ipython3",
   "version": "3.11.4"
  }
 },
 "nbformat": 4,
 "nbformat_minor": 5
}
