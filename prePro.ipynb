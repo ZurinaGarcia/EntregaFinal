{
 "cells": [
  {
   "cell_type": "code",
   "execution_count": null,
   "id": "d5857a76",
   "metadata": {},
   "outputs": [],
   "source": [
    "# Aquí se limpiará la data, ya que habrá otro archivo donde SOLO SE PRESENTARÁ LO QUE EL PROFE PIDA"
   ]
  },
  {
   "cell_type": "code",
   "execution_count": null,
   "id": "29386012",
   "metadata": {},
   "outputs": [],
   "source": [
    "# ver si puedo hacer un geodatapackage con mi datas anteriores así como se ve en la primera parte, PERO DEBE SALIR DE UN LINK"
   ]
  }
 ],
 "metadata": {
  "kernelspec": {
   "display_name": "Python 3 (ipykernel)",
   "language": "python",
   "name": "python3"
  },
  "language_info": {
   "codemirror_mode": {
    "name": "ipython",
    "version": 3
   },
   "file_extension": ".py",
   "mimetype": "text/x-python",
   "name": "python",
   "nbconvert_exporter": "python",
   "pygments_lexer": "ipython3",
   "version": "3.11.4"
  }
 },
 "nbformat": 4,
 "nbformat_minor": 5
}
