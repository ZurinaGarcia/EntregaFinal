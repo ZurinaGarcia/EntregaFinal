{
 "cells": [
  {
   "cell_type": "code",
   "execution_count": 2,
   "id": "67b6f51e",
   "metadata": {},
   "outputs": [
    {
     "data": {
      "text/plain": [
       "['country', 'cities', 'rivers']"
      ]
     },
     "execution_count": 2,
     "metadata": {},
     "output_type": "execute_result"
    }
   ],
   "source": [
    "from  fiona import listlayers\n",
    "import os\n",
    "\n",
    "ukraineMaps=os.path.join('maps','ukraineMaps_5641.gpkg')\n",
    "\n",
    "#layers in maps\n",
    "listlayers(ukraineMaps)"
   ]
  },
  {
   "cell_type": "code",
   "execution_count": null,
   "id": "be746555",
   "metadata": {},
   "outputs": [],
   "source": []
  }
 ],
 "metadata": {
  "kernelspec": {
   "display_name": "Python 3 (ipykernel)",
   "language": "python",
   "name": "python3"
  },
  "language_info": {
   "codemirror_mode": {
    "name": "ipython",
    "version": 3
   },
   "file_extension": ".py",
   "mimetype": "text/x-python",
   "name": "python",
   "nbconvert_exporter": "python",
   "pygments_lexer": "ipython3",
   "version": "3.11.4"
  }
 },
 "nbformat": 4,
 "nbformat_minor": 5
}
