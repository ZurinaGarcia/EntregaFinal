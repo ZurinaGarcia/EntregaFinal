{
 "cells": [
  {
   "cell_type": "code",
   "execution_count": 1,
   "id": "8c1e6be0",
   "metadata": {},
   "outputs": [
    {
     "data": {
      "text/plain": [
       "['country', 'cities', 'rivers']"
      ]
     },
     "execution_count": 1,
     "metadata": {},
     "output_type": "execute_result"
    }
   ],
   "source": [
    "from  fiona import listlayers\n",
    "import os\n",
    "\n",
    "ukraineMaps = 'https://github.com/ZurinaGarcia/simpleplot/raw/main/maps/ukraine_5641/ukraineMaps_5641.gpkg'\n",
    "#layers in maps\n",
    "listlayers(ukraineMaps)"
   ]
  },
  {
   "cell_type": "code",
   "execution_count": 2,
   "id": "faf20aaf",
   "metadata": {},
   "outputs": [],
   "source": [
    "# reading in the data:\n",
    "import os\n",
    "import geopandas as gpd\n",
    "cities=gpd.read_file(ukraineMaps,layer='cities')\n",
    "rivers=gpd.read_file(ukraineMaps,layer='rivers')"
   ]
  },
  {
   "cell_type": "code",
   "execution_count": 3,
   "id": "ebf2ca07",
   "metadata": {},
   "outputs": [],
   "source": [
    "# reading in the data:\n",
    "import os\n",
    "import geopandas as gpd\n",
    "cities=gpd.read_file(ukraineMaps,layer='cities')\n",
    "rivers=gpd.read_file(ukraineMaps,layer='rivers')"
   ]
  },
  {
   "cell_type": "code",
   "execution_count": 5,
   "id": "11c236e5",
   "metadata": {},
   "outputs": [
    {
     "ename": "SyntaxError",
     "evalue": "unterminated string literal (detected at line 2) (4087581082.py, line 2)",
     "output_type": "error",
     "traceback": [
      "\u001b[1;36m  Cell \u001b[1;32mIn[5], line 2\u001b[1;36m\u001b[0m\n\u001b[1;33m    ukraine_municipalities=gpd.read_file(os.path.join(\"maps\",\"ukr_admbnda_sspe_20230201_shp\",\"ukr_admbnda_adm2_sspe_202\u001b[0m\n\u001b[1;37m                                                                                             ^\u001b[0m\n\u001b[1;31mSyntaxError\u001b[0m\u001b[1;31m:\u001b[0m unterminated string literal (detected at line 2)\n"
     ]
    }
   ],
   "source": [
    "ukraine_states=gpd.read_file(os.path.join(\"maps\",\"ukr_admbnda_sspe_20230201_shp\",\"ukr_admbnda_adm1_sspe_20230201.shp\"))\n",
    "ukraine_municipalities=gpd.read_file(os.path.join(\"maps\",\"ukr_admbnda_sspe_20230201_shp\",\"ukr_admbnda_adm2_sspe_202"
   ]
  },
  {
   "cell_type": "code",
   "execution_count": 4,
   "id": "e89b0805",
   "metadata": {},
   "outputs": [],
   "source": [
    "#info puertos\n",
    "\n",
    "import pandas as pd \n",
    "\n",
    "\n",
    "portsFile=os.path.join('data','UpdatedPub150.csv')\n"
   ]
  },
  {
   "cell_type": "code",
   "execution_count": null,
   "id": "0e014816",
   "metadata": {},
   "outputs": [],
   "source": []
  }
 ],
 "metadata": {
  "kernelspec": {
   "display_name": "Python 3 (ipykernel)",
   "language": "python",
   "name": "python3"
  },
  "language_info": {
   "codemirror_mode": {
    "name": "ipython",
    "version": 3
   },
   "file_extension": ".py",
   "mimetype": "text/x-python",
   "name": "python",
   "nbconvert_exporter": "python",
   "pygments_lexer": "ipython3",
   "version": "3.11.4"
  }
 },
 "nbformat": 4,
 "nbformat_minor": 5
}
